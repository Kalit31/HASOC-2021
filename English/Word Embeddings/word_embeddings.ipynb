{
 "cells": [
  {
   "cell_type": "code",
   "execution_count": 1,
   "metadata": {},
   "outputs": [
    {
     "name": "stderr",
     "output_type": "stream",
     "text": [
      "[nltk_data] Downloading package stopwords to /home/kalit/nltk_data...\n",
      "[nltk_data]   Package stopwords is already up-to-date!\n"
     ]
    }
   ],
   "source": [
    "#import libraries\n",
    "import pandas as pd\n",
    "import numpy as np\n",
    "\n",
    "import re\n",
    "import nltk\n",
    "from nltk.tokenize import RegexpTokenizer\n",
    "from nltk.stem.porter import PorterStemmer\n",
    "from nltk.corpus import stopwords\n",
    "nltk.download('stopwords')\n",
    "\n",
    "from textblob import Word\n",
    "\n",
    "from sklearn.model_selection import train_test_split\n",
    "from sklearn import svm\n",
    "from sklearn.linear_model import  LogisticRegression\n",
    "from sklearn.ensemble import RandomForestClassifier\n",
    "from sklearn.model_selection import GridSearchCV, StratifiedKFold\n",
    "from sklearn.svm import SVC\n",
    "from sklearn.metrics import confusion_matrix, f1_score, classification_report,accuracy_score\n",
    "\n",
    "from lightgbm import LGBMClassifier\n",
    "\n",
    "import gensim\n",
    "from gensim.models.word2vec import Word2Vec\n",
    "from gensim.scripts.glove2word2vec import glove2word2vec\n",
    "from gensim.models import KeyedVectors\n",
    "\n",
    "import matplotlib.pyplot as plt\n",
    "import pickle\n",
    "import seaborn as sn\n",
    "\n",
    "import emoji\n",
    "\n",
    "import warnings\n",
    "warnings.filterwarnings(\"ignore\")"
   ]
  },
  {
   "cell_type": "markdown",
   "metadata": {},
   "source": [
    "### Processing Data"
   ]
  },
  {
   "cell_type": "code",
   "execution_count": 2,
   "metadata": {},
   "outputs": [],
   "source": [
    "# Retrieve data from the given path\n",
    "\n",
    "filePath = '../data/en_Hasoc2021_train.csv'\n",
    "filePath = '../../data/english/english_2021.csv'\n",
    "df1 = pd.read_csv(filePath,delimiter=',')\n",
    "\n",
    "df1 = df1.drop('task_2',axis=1)\n",
    "df1.columns = ['TwitterID','HASOCID','Text','Type']\n",
    "df1 = df1.drop(['TwitterID','HASOCID'],axis=1)\n",
    "\n",
    "filePath = '../../data/english/english_2020.xlsx'\n",
    "df2 = pd.read_excel(filePath,engine='openpyxl')\n",
    "\n",
    "df2 = df2.drop('task2',axis=1)\n",
    "df2.columns = ['TwitterID','Text','Type','HASOCID']\n",
    "df2 = df2.drop(['TwitterID','HASOCID'],axis=1)\n",
    "\n",
    "\n",
    "filePath = '../../data/english/english_2019_1.tsv'\n",
    "df3 = pd.read_csv(filePath,delimiter='\\t')\n",
    "\n",
    "df3 = df3.drop(['text_id','task_2','task_3'],axis=1)\n",
    "df3.columns = ['Text','Type']\n",
    "\n",
    "filePath = '../../data/english/english_2019_2.tsv'\n",
    "df4 = pd.read_csv(filePath,delimiter='\\t')\n",
    "\n",
    "df4 = df4.drop(['text_id','task_2','task_3'],axis=1)\n",
    "df4.columns = ['Text','Type']"
   ]
  },
  {
   "cell_type": "code",
   "execution_count": 3,
   "metadata": {},
   "outputs": [],
   "source": [
    "df = pd.concat([df1,df2,df3,df4])"
   ]
  },
  {
   "cell_type": "code",
   "execution_count": 4,
   "metadata": {},
   "outputs": [],
   "source": [
    "# Convert target variable to categorical value(integer)\n",
    "\n",
    "df['Type'] = df['Type'].astype('category')\n",
    "df['Type'] = df['Type'].cat.codes\n",
    "df['Type'] = df['Type'].astype(np.int64)"
   ]
  },
  {
   "cell_type": "code",
   "execution_count": 5,
   "metadata": {},
   "outputs": [],
   "source": [
    "def preprocess(txt):\n",
    "    '''\n",
    "        - Convert to lower case\n",
    "        - Remove excessive spaces\n",
    "        - Remove @handle\n",
    "        - Remove website links/URLS\n",
    "        - Search how to incorporate emojis?\n",
    "    '''\n",
    "    txt = txt.lower()\n",
    "    #txt = emoji.demojize(txt)\n",
    "    txt = re.sub(r'\\s+',' ',txt)\n",
    "    txt = re.sub(r'@[\\w\\-]+','',txt)\n",
    "    txt = re.sub(r'https?:\\/\\/\\S+','',txt)\n",
    "    txt = re.sub(r\"www\\.[a-z]?\\.?(com)+|[a-z]+\\.(com)\",'',txt)\n",
    "    txt = re.sub(r'{link}', '', txt)\n",
    "    txt = re.sub(r\"\\[video\\]\", '', txt)\n",
    "    txt = re.sub(r'&[a-z]+;', '', txt)\n",
    "    txt = re.sub(r\"[^a-z\\s\\(\\-:\\)\\\\\\/\\];='#]\", '', txt)\n",
    "    txt = re.sub(r\"[^\\w\\d'\\s]+\",'',txt)\n",
    "    return txt"
   ]
  },
  {
   "cell_type": "code",
   "execution_count": 6,
   "metadata": {},
   "outputs": [],
   "source": [
    "stop_words = stopwords.words('english')\n",
    "\n",
    "def get_tokens(tweet):\n",
    "    '''\n",
    "        - Preprocess a given tweet text\n",
    "        - Tokenize using RegexpTokenizer\n",
    "        - Lemmatize each token, eg: rocks -> rock, better -> good\n",
    "        - Remove stop words(or not)?\n",
    "    '''\n",
    "    tweet = preprocess(tweet)\n",
    "    tokenizer = RegexpTokenizer(r'\\w+')\n",
    "    tokens = tokenizer.tokenize(tweet)\n",
    "    words = [Word(t).lemmatize() for t in tokens]\n",
    "    words = [w for w in words if not w in stop_words]\n",
    "    words = ' '.join(words)\n",
    "    return words"
   ]
  },
  {
   "cell_type": "code",
   "execution_count": 7,
   "metadata": {},
   "outputs": [],
   "source": [
    "df['Text'] = df['Text'].apply(lambda x: get_tokens(x))"
   ]
  },
  {
   "cell_type": "code",
   "execution_count": 8,
   "metadata": {},
   "outputs": [],
   "source": [
    "X = df['Text']\n",
    "Y = df['Type']"
   ]
  },
  {
   "cell_type": "markdown",
   "metadata": {},
   "source": [
    "### Fetching GloVe and Word2Vec pretrained embeddings"
   ]
  },
  {
   "cell_type": "code",
   "execution_count": 9,
   "metadata": {},
   "outputs": [],
   "source": [
    "def get_glove_embeddings(path):\n",
    "    embeddings_dict = {}\n",
    "    with open(path, 'r', encoding='utf-8') as f:\n",
    "        for line in f:\n",
    "            values = line.split()\n",
    "            token = values[0]\n",
    "            vector = np.asarray(values[1:], \"float32\")\n",
    "            embeddings_dict[token] = vector        \n",
    "    print('Found %s word vectors.' % len(embeddings_dict))\n",
    "    return embeddings_dict"
   ]
  },
  {
   "cell_type": "code",
   "execution_count": 10,
   "metadata": {},
   "outputs": [],
   "source": [
    "# glove_filename = './glove.6B/glove.6B.300d.txt'\n",
    "# word2vec_output_file = glove_filename+'.word2vec'\n",
    "# glove2word2vec(glove_filename, word2vec_output_file)"
   ]
  },
  {
   "cell_type": "markdown",
   "metadata": {},
   "source": [
    "### Given tweet -> numeric vector representation"
   ]
  },
  {
   "cell_type": "code",
   "execution_count": 34,
   "metadata": {},
   "outputs": [],
   "source": [
    "'''\n",
    "    the ith value in the sentence embedding will be the mean of the ith values\n",
    "    in the word embedding of all the words in the sentence\n",
    "'''\n",
    "\n",
    "class Word2VecVectorizer:\n",
    "  def __init__(self, model):\n",
    "    print(\"Loading in word vectors...\")\n",
    "    self.word_vectors = model\n",
    "    print(\"Finished loading in word vectors\")\n",
    "\n",
    "  def fit(self, data):\n",
    "    pass\n",
    "\n",
    "  def transform(self, data):\n",
    "    v = self.word_vectors.get_vector('king')\n",
    "    self.D = v.shape[0]\n",
    "\n",
    "    X = np.zeros((len(data), self.D))\n",
    "    n = 0\n",
    "    emptycount = 0\n",
    "    for sentence in data:\n",
    "      tokens = sentence.split()\n",
    "      vecs = []\n",
    "      m = 0\n",
    "      for word in tokens:\n",
    "        try:\n",
    "          vec = self.word_vectors.get_vector(word)\n",
    "          vecs.append(vec)\n",
    "          m += 1\n",
    "        except KeyError:\n",
    "          pass\n",
    "      if len(vecs) > 0:\n",
    "        vecs = np.array(vecs)\n",
    "        X[n] = vecs.mean(axis=0)\n",
    "      else:\n",
    "        emptycount += 1\n",
    "      n += 1\n",
    "    #print(\"Numer of samples with no words found: %s / %s\" % (emptycount, len(data)))\n",
    "    return X\n",
    "\n",
    "\n",
    "  def fit_transform(self, data):\n",
    "    self.fit(data)\n",
    "    return self.transform(data)"
   ]
  },
  {
   "cell_type": "markdown",
   "metadata": {},
   "source": [
    "### Training a classifier with given parameters and evaluating it's performance"
   ]
  },
  {
   "cell_type": "code",
   "execution_count": 12,
   "metadata": {},
   "outputs": [],
   "source": [
    "def train_classifier(classifier,parameters,cv_fold=5,embedding_path=None,binary=False):\n",
    "    \n",
    "    X_train, X_test, Y_train, Y_test = train_test_split(X, Y, test_size = 0.2, random_state=42)\n",
    "    \n",
    "    w2v_model = KeyedVectors.load_word2vec_format(embedding_path, binary=binary)\n",
    "    vectorizer = Word2VecVectorizer(w2v_model)\n",
    "    X_train = vectorizer.fit_transform(X_train)\n",
    "    X_test = vectorizer.transform(X_test)\n",
    "\n",
    "    X_train = np.array(X_train)\n",
    "    X_test = np.array(X_test)    \n",
    "    \n",
    "    grid_search = GridSearchCV(classifier,param_grid = parameters,\n",
    "                               cv = StratifiedKFold(n_splits=cv_fold,\n",
    "                                                random_state=42,shuffle=True).split(X_train,Y_train))\n",
    "    model = grid_search.fit(X_train,Y_train)\n",
    "    evaluate(model,X_test,Y_test)   \n",
    "    return model"
   ]
  },
  {
   "cell_type": "code",
   "execution_count": 13,
   "metadata": {},
   "outputs": [],
   "source": [
    "def plot_confussion_matrix(y_test, y_pred):\n",
    "    ''' Plot the confussion matrix for the target labels and predictions '''\n",
    "    cm = confusion_matrix(y_test, y_pred)\n",
    "    df_cm = pd.DataFrame(cm, range(cm.shape[0]), range(cm.shape[1]))\n",
    "    sn.set(font_scale=1.4) \n",
    "    sn.heatmap(df_cm, annot=True,fmt='.0f',annot_kws={\"size\": 10})\n",
    "    plt.show()"
   ]
  },
  {
   "cell_type": "code",
   "execution_count": 14,
   "metadata": {},
   "outputs": [],
   "source": [
    "def evaluate(model,X_test,Y_test):\n",
    "  print('Cross Validation Results:')\n",
    "  print(model.cv_results_)\n",
    "\n",
    "  y_pred = model.predict(X_test)\n",
    "  \n",
    "  print('Classification Report:')\n",
    "  report = classification_report(Y_test, y_pred)\n",
    "  print(report)\n",
    "  plot_confussion_matrix(Y_test,y_pred)"
   ]
  },
  {
   "cell_type": "markdown",
   "metadata": {},
   "source": [
    "### Logistic Regression Classifier"
   ]
  },
  {
   "cell_type": "code",
   "execution_count": 16,
   "metadata": {},
   "outputs": [
    {
     "name": "stdout",
     "output_type": "stream",
     "text": [
      "Loading in word vectors...\n",
      "Finished loading in word vectors\n",
      "Numer of samples with no words found: 34 / 11644\n",
      "Numer of samples with no words found: 9 / 2912\n",
      "Cross Validation Results:\n",
      "{'mean_fit_time': array([0.22926016]), 'std_fit_time': array([0.02371964]), 'mean_score_time': array([0.00314465]), 'std_score_time': array([0.00390119]), 'params': [{}], 'split0_test_score': array([0.69042508]), 'split1_test_score': array([0.68956634]), 'split2_test_score': array([0.68012022]), 'split3_test_score': array([0.69858308]), 'split4_test_score': array([0.67568729]), 'mean_test_score': array([0.6868764]), 'std_test_score': array([0.00809589]), 'rank_test_score': array([1], dtype=int32)}\n",
      "Classification Report:\n",
      "              precision    recall  f1-score   support\n",
      "\n",
      "           0       0.67      0.66      0.66      1377\n",
      "           1       0.70      0.71      0.71      1535\n",
      "\n",
      "    accuracy                           0.69      2912\n",
      "   macro avg       0.69      0.68      0.68      2912\n",
      "weighted avg       0.69      0.69      0.69      2912\n",
      "\n"
     ]
    },
    {
     "data": {
      "image/png": "[encoded data removed]",
      "text/plain": [
       "<Figure size 432x288 with 2 Axes>"
      ]
     },
     "metadata": {},
     "output_type": "display_data"
    }
   ],
   "source": [
    "classifier_lr_1 = LogisticRegression(class_weight='balanced',penalty='l2',max_iter=400,\n",
    "                                solver='liblinear', random_state=42, multi_class='ovr')\n",
    "path = './glove.6B/glove.6B.100d.txt.word2vec'\n",
    "classifier_lr_1 = train_classifier(classifier_lr_1,parameters=[{}],cv_fold=5,embedding_path=path,binary=False)"
   ]
  },
  {
   "cell_type": "code",
   "execution_count": 17,
   "metadata": {},
   "outputs": [
    {
     "name": "stdout",
     "output_type": "stream",
     "text": [
      "Loading in word vectors...\n",
      "Finished loading in word vectors\n",
      "Numer of samples with no words found: 30 / 11644\n",
      "Numer of samples with no words found: 5 / 2912\n",
      "Cross Validation Results:\n",
      "{'mean_fit_time': array([0.70240054]), 'std_fit_time': array([0.05471869]), 'mean_score_time': array([0.00324092]), 'std_score_time': array([0.00287335]), 'params': [{}], 'split0_test_score': array([0.73293259]), 'split1_test_score': array([0.71060541]), 'split2_test_score': array([0.721769]), 'split3_test_score': array([0.73078574]), 'split4_test_score': array([0.71434708]), 'mean_test_score': array([0.72208796]), 'std_test_score': array([0.00877644]), 'rank_test_score': array([1], dtype=int32)}\n",
      "Classification Report:\n",
      "              precision    recall  f1-score   support\n",
      "\n",
      "           0       0.74      0.67      0.70      1377\n",
      "           1       0.72      0.79      0.75      1535\n",
      "\n",
      "    accuracy                           0.73      2912\n",
      "   macro avg       0.73      0.73      0.73      2912\n",
      "weighted avg       0.73      0.73      0.73      2912\n",
      "\n"
     ]
    },
    {
     "data": {
      "image/png": "[encoded data removed]",
      "text/plain": [
       "<Figure size 432x288 with 2 Axes>"
      ]
     },
     "metadata": {},
     "output_type": "display_data"
    }
   ],
   "source": [
    "classifier_lr_2 = LogisticRegression(class_weight='balanced',penalty='l2',max_iter=400,\n",
    "                                solver='liblinear', random_state=42, multi_class='ovr')\n",
    "path = './GoogleNews-vectors-negative300.bin'\n",
    "classifier_lr_2 = train_classifier(classifier_lr_2,parameters=[{}],cv_fold=5,embedding_path=path,binary=True)"
   ]
  },
  {
   "cell_type": "markdown",
   "metadata": {},
   "source": [
    "### Support Vector Classifier"
   ]
  },
  {
   "cell_type": "code",
   "execution_count": 18,
   "metadata": {},
   "outputs": [
    {
     "name": "stdout",
     "output_type": "stream",
     "text": [
      "Loading in word vectors...\n",
      "Finished loading in word vectors\n",
      "Numer of samples with no words found: 34 / 11644\n",
      "Numer of samples with no words found: 9 / 2912\n",
      "Cross Validation Results:\n",
      "{'mean_fit_time': array([ 9.38750477, 10.02034545,  9.87656412, 10.20071454,  9.33368473,\n",
      "        9.39052668,  9.55862522,  8.90761843,  7.57844939,  8.74406719,\n",
      "        6.7439713 ,  8.31769037]), 'std_fit_time': array([0.20912149, 0.28685937, 0.33079094, 0.15376153, 0.4417852 ,\n",
      "       1.34731236, 0.52343094, 0.3805974 , 0.09109339, 0.3811244 ,\n",
      "       0.09660022, 0.14608173]), 'mean_score_time': array([2.56709642, 2.67880945, 2.69060411, 2.72967434, 2.47197533,\n",
      "       2.27925282, 2.56933732, 2.37419152, 1.93164158, 1.80174198,\n",
      "       1.84273467, 1.80564265]), 'std_score_time': array([0.15506488, 0.06818958, 0.14642487, 0.10193915, 0.12597567,\n",
      "       0.32395775, 0.13363256, 0.15391062, 0.05154199, 0.032263  ,\n",
      "       0.01457747, 0.048154  ]), 'param_C': masked_array(data=[0.001, 0.001, 0.001, 0.001, 0.1, 0.1, 0.1, 0.1, 10, 10,\n",
      "                   10, 10],\n",
      "             mask=[False, False, False, False, False, False, False, False,\n",
      "                   False, False, False, False],\n",
      "       fill_value='?',\n",
      "            dtype=object), 'param_gamma': masked_array(data=[0.01, 0.1, 'auto', 'scale', 0.01, 0.1, 'auto', 'scale',\n",
      "                   0.01, 0.1, 'auto', 'scale'],\n",
      "             mask=[False, False, False, False, False, False, False, False,\n",
      "                   False, False, False, False],\n",
      "       fill_value='?',\n",
      "            dtype=object), 'params': [{'C': 0.001, 'gamma': 0.01}, {'C': 0.001, 'gamma': 0.1}, {'C': 0.001, 'gamma': 'auto'}, {'C': 0.001, 'gamma': 'scale'}, {'C': 0.1, 'gamma': 0.01}, {'C': 0.1, 'gamma': 0.1}, {'C': 0.1, 'gamma': 'auto'}, {'C': 0.1, 'gamma': 'scale'}, {'C': 10, 'gamma': 0.01}, {'C': 10, 'gamma': 0.1}, {'C': 10, 'gamma': 'auto'}, {'C': 10, 'gamma': 'scale'}], 'split0_test_score': array([0.52511808, 0.52511808, 0.52511808, 0.52511808, 0.65264062,\n",
      "       0.69171318, 0.65264062, 0.69214255, 0.71017604, 0.70588235,\n",
      "       0.71017604, 0.7080292 ]), 'split1_test_score': array([0.52511808, 0.52511808, 0.52511808, 0.52511808, 0.65392872,\n",
      "       0.70416488, 0.65392872, 0.69944182, 0.70717046, 0.70674109,\n",
      "       0.70717046, 0.71060541]), 'split2_test_score': array([0.52511808, 0.52511808, 0.52511808, 0.52511808, 0.65951052,\n",
      "       0.69257192, 0.65951052, 0.69214255, 0.69514813, 0.69858308,\n",
      "       0.69514813, 0.70330614]), 'split3_test_score': array([0.52511808, 0.52511808, 0.52511808, 0.52511808, 0.67367969,\n",
      "       0.71189352, 0.67367969, 0.71404036, 0.72133963, 0.71575784,\n",
      "       0.72133963, 0.71661657]), 'split4_test_score': array([0.52534364, 0.52534364, 0.52534364, 0.52534364, 0.64218213,\n",
      "       0.69158076, 0.64218213, 0.68728522, 0.69501718, 0.69587629,\n",
      "       0.69501718, 0.70189003]), 'mean_test_score': array([0.52516319, 0.52516319, 0.52516319, 0.52516319, 0.65638834,\n",
      "       0.69838485, 0.65638834, 0.6970105 , 0.70577029, 0.70456813,\n",
      "       0.70577029, 0.70808947]), 'std_test_score': array([9.02264736e-05, 9.02264736e-05, 9.02264736e-05, 9.02264736e-05,\n",
      "       1.03019448e-02, 8.25214891e-03, 1.03019448e-02, 9.35844373e-03,\n",
      "       9.92204670e-03, 6.97176240e-03, 9.92204670e-03, 5.29827013e-03]), 'rank_test_score': array([9, 9, 9, 9, 7, 5, 7, 6, 2, 4, 2, 1], dtype=int32)}\n",
      "Classification Report:\n",
      "              precision    recall  f1-score   support\n",
      "\n",
      "           0       0.69      0.66      0.67      1377\n",
      "           1       0.71      0.73      0.72      1535\n",
      "\n",
      "    accuracy                           0.70      2912\n",
      "   macro avg       0.70      0.70      0.70      2912\n",
      "weighted avg       0.70      0.70      0.70      2912\n",
      "\n"
     ]
    },
    {
     "data": {
      "image/png": "[encoded data removed]",
      "text/plain": [
       "<Figure size 432x288 with 2 Axes>"
      ]
     },
     "metadata": {},
     "output_type": "display_data"
    }
   ],
   "source": [
    "classifier_svc_1 = SVC(kernel='rbf')\n",
    "path = './glove.6B/glove.6B.100d.txt.word2vec'\n",
    "params = {'C':[0.001,0.1,10],'gamma':[0.01,0.1,'auto','scale']}\n",
    "classifier_svc_1 = train_classifier(classifier_svc_1,parameters=params,cv_fold=5,embedding_path=path,binary=False)"
   ]
  },
  {
   "cell_type": "code",
   "execution_count": 19,
   "metadata": {},
   "outputs": [
    {
     "name": "stdout",
     "output_type": "stream",
     "text": [
      "Loading in word vectors...\n",
      "Finished loading in word vectors\n",
      "Numer of samples with no words found: 30 / 11644\n",
      "Numer of samples with no words found: 5 / 2912\n",
      "Cross Validation Results:\n",
      "{'mean_fit_time': array([21.05791636, 22.7717103 , 19.91741343, 19.37301488, 16.99665518,\n",
      "       18.08545356, 19.25108376, 16.53631177, 13.63108425, 12.67802691,\n",
      "       14.31097484, 22.52446117]), 'std_fit_time': array([0.52485784, 0.51388455, 1.33054898, 0.68683494, 0.21847878,\n",
      "       1.06460234, 0.1857663 , 2.50516079, 0.31629082, 0.15466716,\n",
      "       0.15784873, 2.71166772]), 'mean_score_time': array([8.26473007, 8.4420083 , 7.73559461, 7.38690395, 6.76589675,\n",
      "       6.99338088, 8.00415626, 6.24987135, 5.32439971, 4.88924832,\n",
      "       5.66818414, 5.63290644]), 'std_score_time': array([0.27797561, 0.03935921, 0.42638581, 0.25321524, 0.10948239,\n",
      "       0.53569607, 0.26752541, 0.54683059, 0.10035166, 0.12052178,\n",
      "       0.18737517, 0.14788913]), 'param_C': masked_array(data=[0.001, 0.001, 0.001, 0.001, 0.1, 0.1, 0.1, 0.1, 10, 10,\n",
      "                   10, 10],\n",
      "             mask=[False, False, False, False, False, False, False, False,\n",
      "                   False, False, False, False],\n",
      "       fill_value='?',\n",
      "            dtype=object), 'param_gamma': masked_array(data=[0.01, 0.1, 'auto', 'scale', 0.01, 0.1, 'auto', 'scale',\n",
      "                   0.01, 0.1, 'auto', 'scale'],\n",
      "             mask=[False, False, False, False, False, False, False, False,\n",
      "                   False, False, False, False],\n",
      "       fill_value='?',\n",
      "            dtype=object), 'params': [{'C': 0.001, 'gamma': 0.01}, {'C': 0.001, 'gamma': 0.1}, {'C': 0.001, 'gamma': 'auto'}, {'C': 0.001, 'gamma': 'scale'}, {'C': 0.1, 'gamma': 0.01}, {'C': 0.1, 'gamma': 0.1}, {'C': 0.1, 'gamma': 'auto'}, {'C': 0.1, 'gamma': 'scale'}, {'C': 10, 'gamma': 0.01}, {'C': 10, 'gamma': 0.1}, {'C': 10, 'gamma': 'auto'}, {'C': 10, 'gamma': 'scale'}], 'split0_test_score': array([0.52511808, 0.52511808, 0.52511808, 0.52511808, 0.62215543,\n",
      "       0.70416488, 0.54229283, 0.72091026, 0.72992701, 0.75311292,\n",
      "       0.71232289, 0.73679691]), 'split1_test_score': array([0.52511808, 0.52511808, 0.52511808, 0.52511808, 0.62000859,\n",
      "       0.69858308, 0.54100472, 0.71661657, 0.71575784, 0.73078574,\n",
      "       0.70974667, 0.71962216]), 'split2_test_score': array([0.52511808, 0.52511808, 0.52511808, 0.52511808, 0.62129669,\n",
      "       0.70545298, 0.5427222 , 0.71790468, 0.72949764, 0.75268356,\n",
      "       0.71017604, 0.72563332]), 'split3_test_score': array([0.52511808, 0.52511808, 0.52511808, 0.52511808, 0.62086733,\n",
      "       0.71833405, 0.53928725, 0.74023186, 0.73980249, 0.75354229,\n",
      "       0.72048089, 0.73722628]), 'split4_test_score': array([0.52534364, 0.52534364, 0.52534364, 0.52534364, 0.61726804,\n",
      "       0.69931271, 0.54080756, 0.71005155, 0.72293814, 0.72938144,\n",
      "       0.70532646, 0.7371134 ]), 'mean_test_score': array([0.52516319, 0.52516319, 0.52516319, 0.52516319, 0.62031922,\n",
      "       0.70516954, 0.54122291, 0.72114298, 0.72758462, 0.74390119,\n",
      "       0.71161059, 0.73127841]), 'std_test_score': array([9.02264736e-05, 9.02264736e-05, 9.02264736e-05, 9.02264736e-05,\n",
      "       1.67533468e-03, 7.10039157e-03, 1.21321909e-03, 1.01826746e-02,\n",
      "       7.99856650e-03, 1.12940231e-02, 4.98421597e-03, 7.31591973e-03]), 'rank_test_score': array([9, 9, 9, 9, 7, 6, 8, 4, 3, 1, 5, 2], dtype=int32)}\n",
      "Classification Report:\n",
      "              precision    recall  f1-score   support\n",
      "\n",
      "           0       0.77      0.68      0.72      1377\n",
      "           1       0.74      0.81      0.78      1535\n",
      "\n",
      "    accuracy                           0.75      2912\n",
      "   macro avg       0.75      0.75      0.75      2912\n",
      "weighted avg       0.75      0.75      0.75      2912\n",
      "\n"
     ]
    },
    {
     "data": {
      "image/png": "[encoded data removed]",
      "text/plain": [
       "<Figure size 432x288 with 2 Axes>"
      ]
     },
     "metadata": {},
     "output_type": "display_data"
    }
   ],
   "source": [
    "classifier_svc_2 = SVC(kernel='rbf')\n",
    "path = './GoogleNews-vectors-negative300.bin'\n",
    "params = {'C':[0.001,0.1,10],'gamma':[0.01,0.1,'auto','scale']}\n",
    "classifier_svc_2 = train_classifier(classifier_svc_2,parameters=params,cv_fold=5,embedding_path=path,binary=True)"
   ]
  },
  {
   "cell_type": "markdown",
   "metadata": {},
   "source": [
    "### Random Forest Classifier"
   ]
  },
  {
   "cell_type": "code",
   "execution_count": 48,
   "metadata": {},
   "outputs": [
    {
     "name": "stdout",
     "output_type": "stream",
     "text": [
      "Loading in word vectors...\n",
      "Finished loading in word vectors\n",
      "Cross Validation Results:\n",
      "{'mean_fit_time': array([ 2.16924472,  4.17814431,  8.74392624,  3.49249539,  6.85171824,\n",
      "       13.97069416]), 'std_fit_time': array([0.08778517, 0.02454365, 0.09413757, 0.15551412, 0.03777665,\n",
      "       0.53868622]), 'mean_score_time': array([0.02489495, 0.0426055 , 0.08780231, 0.02296958, 0.04355111,\n",
      "       0.08472495]), 'std_score_time': array([4.95524672e-03, 2.23010046e-04, 2.03675657e-03, 8.48664864e-04,\n",
      "       8.53986729e-05, 1.26432107e-03]), 'param_max_features': masked_array(data=['log2', 'log2', 'log2', 'sqrt', 'sqrt', 'sqrt'],\n",
      "             mask=[False, False, False, False, False, False],\n",
      "       fill_value='?',\n",
      "            dtype=object), 'param_n_estimators': masked_array(data=[50, 100, 200, 50, 100, 200],\n",
      "             mask=[False, False, False, False, False, False],\n",
      "       fill_value='?',\n",
      "            dtype=object), 'params': [{'max_features': 'log2', 'n_estimators': 50}, {'max_features': 'log2', 'n_estimators': 100}, {'max_features': 'log2', 'n_estimators': 200}, {'max_features': 'sqrt', 'n_estimators': 50}, {'max_features': 'sqrt', 'n_estimators': 100}, {'max_features': 'sqrt', 'n_estimators': 200}], 'split0_test_score': array([0.68097896, 0.68226707, 0.68956634, 0.68054959, 0.67711464,\n",
      "       0.69772435]), 'split1_test_score': array([0.68784886, 0.69600687, 0.70459425, 0.68570202, 0.69171318,\n",
      "       0.7011593 ]), 'split2_test_score': array([0.669386  , 0.68012022, 0.68226707, 0.67153285, 0.67797338,\n",
      "       0.6818377 ]), 'split3_test_score': array([0.7011593 , 0.70588235, 0.7011593 , 0.68699012, 0.70888793,\n",
      "       0.71060541]), 'split4_test_score': array([0.67439863, 0.68127148, 0.69372852, 0.67439863, 0.69329897,\n",
      "       0.69501718]), 'mean_test_score': array([0.68275435, 0.6891096 , 0.69426309, 0.67983464, 0.68979762,\n",
      "       0.69726879]), 'std_test_score': array([0.01110296, 0.01017804, 0.00800675, 0.00607632, 0.01167081,\n",
      "       0.00934235]), 'rank_test_score': array([5, 4, 2, 6, 3, 1], dtype=int32)}\n",
      "Classification Report:\n",
      "              precision    recall  f1-score   support\n",
      "\n",
      "           0       0.71      0.61      0.66      1377\n",
      "           1       0.69      0.78      0.73      1535\n",
      "\n",
      "    accuracy                           0.70      2912\n",
      "   macro avg       0.70      0.70      0.70      2912\n",
      "weighted avg       0.70      0.70      0.70      2912\n",
      "\n"
     ]
    },
    {
     "data": {
      "image/png": "[encoded data removed]",
      "text/plain": [
       "<Figure size 432x288 with 2 Axes>"
      ]
     },
     "metadata": {},
     "output_type": "display_data"
    }
   ],
   "source": [
    "classifier_rf_1 = RandomForestClassifier()\n",
    "path = './glove.6B/glove.6B.100d.txt.word2vec'\n",
    "params = {'n_estimators':[50,100,200],'max_features':['log2','sqrt']}\n",
    "classifier_rf_1 = train_classifier(classifier_rf_1,parameters=params,cv_fold=5,embedding_path=path,binary=False)"
   ]
  },
  {
   "cell_type": "code",
   "execution_count": 49,
   "metadata": {},
   "outputs": [
    {
     "name": "stdout",
     "output_type": "stream",
     "text": [
      "Loading in word vectors...\n",
      "Finished loading in word vectors\n",
      "Cross Validation Results:\n",
      "{'mean_fit_time': array([ 2.82840681,  5.6548871 , 11.45508032,  5.69856877, 11.18684182,\n",
      "       22.44462452]), 'std_fit_time': array([0.0292513 , 0.13662964, 0.18660934, 0.12401565, 0.167117  ,\n",
      "       0.33461605]), 'mean_score_time': array([0.02594538, 0.05321064, 0.09596143, 0.02410579, 0.04577727,\n",
      "       0.09179945]), 'std_score_time': array([0.00109804, 0.010947  , 0.00580167, 0.0003883 , 0.00063053,\n",
      "       0.00377436]), 'param_max_features': masked_array(data=['log2', 'log2', 'log2', 'sqrt', 'sqrt', 'sqrt'],\n",
      "             mask=[False, False, False, False, False, False],\n",
      "       fill_value='?',\n",
      "            dtype=object), 'param_n_estimators': masked_array(data=[50, 100, 200, 50, 100, 200],\n",
      "             mask=[False, False, False, False, False, False],\n",
      "       fill_value='?',\n",
      "            dtype=object), 'params': [{'max_features': 'log2', 'n_estimators': 50}, {'max_features': 'log2', 'n_estimators': 100}, {'max_features': 'log2', 'n_estimators': 200}, {'max_features': 'sqrt', 'n_estimators': 50}, {'max_features': 'sqrt', 'n_estimators': 100}, {'max_features': 'sqrt', 'n_estimators': 200}], 'split0_test_score': array([0.69772435, 0.71189352, 0.70888793, 0.69686561, 0.71189352,\n",
      "       0.71232289]), 'split1_test_score': array([0.69343066, 0.70888793, 0.71361099, 0.70330614, 0.70974667,\n",
      "       0.72520395]), 'split2_test_score': array([0.69128381, 0.70845857, 0.69944182, 0.69858308, 0.7011593 ,\n",
      "       0.70588235]), 'split3_test_score': array([0.71919279, 0.73121511, 0.73507943, 0.72348647, 0.72906827,\n",
      "       0.74023186]), 'split4_test_score': array([0.69372852, 0.7169244 , 0.71262887, 0.70189003, 0.72121993,\n",
      "       0.71606529]), 'mean_test_score': array([0.69907202, 0.71547591, 0.71392981, 0.70482627, 0.71461754,\n",
      "       0.71994127]), 'std_test_score': array([0.01027322, 0.00842969, 0.01169977, 0.00960713, 0.00964039,\n",
      "       0.01191738]), 'rank_test_score': array([6, 2, 4, 5, 3, 1], dtype=int32)}\n",
      "Classification Report:\n",
      "              precision    recall  f1-score   support\n",
      "\n",
      "           0       0.77      0.62      0.69      1377\n",
      "           1       0.71      0.83      0.77      1535\n",
      "\n",
      "    accuracy                           0.73      2912\n",
      "   macro avg       0.74      0.73      0.73      2912\n",
      "weighted avg       0.74      0.73      0.73      2912\n",
      "\n"
     ]
    },
    {
     "data": {
      "image/png": "[encoded data removed]",
      "text/plain": [
       "<Figure size 432x288 with 2 Axes>"
      ]
     },
     "metadata": {},
     "output_type": "display_data"
    }
   ],
   "source": [
    "classifier_rf_2 = RandomForestClassifier()\n",
    "path = './GoogleNews-vectors-negative300.bin'\n",
    "params = {'n_estimators':[50,100,200],'max_features':['log2','sqrt']}\n",
    "classifier_rf_2 = train_classifier(classifier_rf_2,parameters=params,cv_fold=5,embedding_path=path,binary=True)"
   ]
  },
  {
   "cell_type": "markdown",
   "metadata": {},
   "source": [
    "### XGBoost Classifier"
   ]
  },
  {
   "cell_type": "code",
   "execution_count": 24,
   "metadata": {},
   "outputs": [
    {
     "name": "stdout",
     "output_type": "stream",
     "text": [
      "Loading in word vectors...\n",
      "Finished loading in word vectors\n",
      "Numer of samples with no words found: 9 / 3074\n",
      "Numer of samples with no words found: 4 / 769\n",
      "Cross Validation Results:\n",
      "{'mean_fit_time': array([2.58718529]), 'std_fit_time': array([0.26724729]), 'mean_score_time': array([0.00964475]), 'std_score_time': array([0.00056047]), 'params': [{}], 'split0_test_score': array([0.72195122]), 'split1_test_score': array([0.71869919]), 'split2_test_score': array([0.72195122]), 'split3_test_score': array([0.72357724]), 'split4_test_score': array([0.74267101]), 'mean_test_score': array([0.72576997]), 'std_test_score': array([0.00859785]), 'rank_test_score': array([1], dtype=int32)}\n",
      "Classification Report:\n",
      "              precision    recall  f1-score   support\n",
      "\n",
      "           0       0.79      0.90      0.84       529\n",
      "           1       0.67      0.46      0.55       240\n",
      "\n",
      "    accuracy                           0.76       769\n",
      "   macro avg       0.73      0.68      0.69       769\n",
      "weighted avg       0.75      0.76      0.75       769\n",
      "\n"
     ]
    },
    {
     "data": {
      "image/png": "[encoded data removed]",
      "text/plain": [
       "<Figure size 432x288 with 2 Axes>"
      ]
     },
     "metadata": {},
     "output_type": "display_data"
    }
   ],
   "source": [
    "classifier = LGBMClassifier(learning_rate=0.05,n_estimators=1500,\n",
    "                            colsample_bytree= 0.5,metric = 'f1_score')\n",
    "path = './glove.6B/glove.6B.100d.txt.word2vec'\n",
    "train_classifier(classifier,parameters=[{}],cv_fold=5,embedding_path=path,binary=False)"
   ]
  },
  {
   "cell_type": "code",
   "execution_count": 25,
   "metadata": {},
   "outputs": [
    {
     "name": "stdout",
     "output_type": "stream",
     "text": [
      "Loading in word vectors...\n",
      "Finished loading in word vectors\n",
      "Numer of samples with no words found: 5 / 3074\n",
      "Numer of samples with no words found: 3 / 769\n",
      "Cross Validation Results:\n",
      "{'mean_fit_time': array([6.05439601]), 'std_fit_time': array([0.87776049]), 'mean_score_time': array([0.01164303]), 'std_score_time': array([0.00212442]), 'params': [{}], 'split0_test_score': array([0.75772358]), 'split1_test_score': array([0.75934959]), 'split2_test_score': array([0.72357724]), 'split3_test_score': array([0.74471545]), 'split4_test_score': array([0.74592834]), 'mean_test_score': array([0.74625884]), 'std_test_score': array([0.01280433]), 'rank_test_score': array([1], dtype=int32)}\n",
      "Classification Report:\n",
      "              precision    recall  f1-score   support\n",
      "\n",
      "           0       0.80      0.91      0.85       529\n",
      "           1       0.72      0.48      0.58       240\n",
      "\n",
      "    accuracy                           0.78       769\n",
      "   macro avg       0.76      0.70      0.71       769\n",
      "weighted avg       0.77      0.78      0.77       769\n",
      "\n"
     ]
    },
    {
     "data": {
      "image/png": "[encoded data removed]",
      "text/plain": [
       "<Figure size 432x288 with 2 Axes>"
      ]
     },
     "metadata": {},
     "output_type": "display_data"
    }
   ],
   "source": [
    "classifier = LGBMClassifier(learning_rate=0.05,n_estimators=1500,\n",
    "                            colsample_bytree= 0.5,metric = 'f1_score')\n",
    "path = './GoogleNews-vectors-negative300.bin'\n",
    "train_classifier(classifier,parameters=[{}],cv_fold=5,embedding_path=path,binary=True)"
   ]
  },
  {
   "cell_type": "markdown",
   "metadata": {},
   "source": [
    "### Predicting outputs"
   ]
  },
  {
   "cell_type": "code",
   "execution_count": 38,
   "metadata": {},
   "outputs": [],
   "source": [
    "def get_predictions(filePath,model,output_file,vectorizer):\n",
    "    df_test = pd.read_csv(filePath,delimiter=',')\n",
    "    \n",
    "    results = {}\n",
    "\n",
    "    for ind in df_test.index:\n",
    "        txt = df_test['text'][ind]\n",
    "        id = df_test['_id'][ind]\n",
    "\n",
    "        txt = get_tokens(txt)        \n",
    "    \n",
    "        txt = vectorizer.transform([txt])\n",
    "        txt = np.array(txt)\n",
    "        output = model.predict(txt)\n",
    "        if(output[0]==0):\n",
    "          results[id] = \"HOF\"\n",
    "        else:\n",
    "          results[id] = \"NOT\"\n",
    "        \n",
    "    df_results = pd.DataFrame(list(results.items()))\n",
    "    df_results.columns = [\"id\",\"label\"]\n",
    "    df_results.to_csv(output_file,index=False)"
   ]
  },
  {
   "cell_type": "code",
   "execution_count": 35,
   "metadata": {},
   "outputs": [
    {
     "name": "stdout",
     "output_type": "stream",
     "text": [
      "Loading in word vectors...\n",
      "Finished loading in word vectors\n"
     ]
    }
   ],
   "source": [
    "path = './glove.6B/glove.6B.100d.txt.word2vec'\n",
    "w2v_model_glove = KeyedVectors.load_word2vec_format(path, binary=False)\n",
    "vectorizer_glove = Word2VecVectorizer(w2v_model_glove)"
   ]
  },
  {
   "cell_type": "code",
   "execution_count": 36,
   "metadata": {},
   "outputs": [
    {
     "name": "stdout",
     "output_type": "stream",
     "text": [
      "Loading in word vectors...\n",
      "Finished loading in word vectors\n"
     ]
    }
   ],
   "source": [
    "path = './GoogleNews-vectors-negative300.bin'\n",
    "w2v_model_google = KeyedVectors.load_word2vec_format(path, binary=True)\n",
    "vectorizer_google = Word2VecVectorizer(w2v_model_google)"
   ]
  },
  {
   "cell_type": "code",
   "execution_count": 28,
   "metadata": {},
   "outputs": [],
   "source": [
    "filePath = '../../data/english/en_Hasoc2021_test_task1.csv'"
   ]
  },
  {
   "cell_type": "code",
   "execution_count": 39,
   "metadata": {},
   "outputs": [],
   "source": [
    "output_file_path = \"../../data/english/classifier_using_word_embeddings_glove_en_lr.csv\"\n",
    "get_predictions(filePath,classifier_lr_1,output_file_path,vectorizer_glove)"
   ]
  },
  {
   "cell_type": "code",
   "execution_count": 41,
   "metadata": {},
   "outputs": [],
   "source": [
    "output_file_path = \"../../data/english/classifier_using_word_embeddings_google_en_lr.csv\"\n",
    "get_predictions(filePath,classifier_lr_2,output_file_path,vectorizer_google)"
   ]
  },
  {
   "cell_type": "code",
   "execution_count": 42,
   "metadata": {},
   "outputs": [],
   "source": [
    "output_file_path = \"../../data/english/classifier_using_word_embeddings_glove_en_svc.csv\"\n",
    "get_predictions(filePath,classifier_svc_1,output_file_path,vectorizer_glove)"
   ]
  },
  {
   "cell_type": "code",
   "execution_count": 43,
   "metadata": {},
   "outputs": [],
   "source": [
    "output_file_path = \"../../data/english/classifier_using_word_embeddings_google_en_svc.csv\"\n",
    "get_predictions(filePath,classifier_svc_2,output_file_path,vectorizer_google)"
   ]
  },
  {
   "cell_type": "code",
   "execution_count": 50,
   "metadata": {},
   "outputs": [],
   "source": [
    "output_file_path = \"../../data/english/classifier_using_word_embeddings_glove_en_rf.csv\"\n",
    "get_predictions(filePath,classifier_rf_1,output_file_path,vectorizer_glove)"
   ]
  },
  {
   "cell_type": "code",
   "execution_count": 51,
   "metadata": {},
   "outputs": [],
   "source": [
    "output_file_path = \"../../data/english/classifier_using_word_embeddings_google_en_rf.csv\"\n",
    "get_predictions(filePath,classifier_rf_2,output_file_path,vectorizer_google)"
   ]
  },
  {
   "cell_type": "code",
   "execution_count": null,
   "metadata": {},
   "outputs": [],
   "source": []
  }
 ],
 "metadata": {
  "kernelspec": {
   "display_name": "Python 3.6.9 64-bit",
   "language": "python",
   "name": "python36964bit0bc097d690354a299f7aa7a9b08339f8"
  },
  "language_info": {
   "codemirror_mode": {
    "name": "ipython",
    "version": 3
   },
   "file_extension": ".py",
   "mimetype": "text/x-python",
   "name": "python",
   "nbconvert_exporter": "python",
   "pygments_lexer": "ipython3",
   "version": "3.6.9"
  }
 },
 "nbformat": 4,
 "nbformat_minor": 2
}
