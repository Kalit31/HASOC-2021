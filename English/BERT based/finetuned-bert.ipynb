{
  "nbformat": 4,
  "nbformat_minor": 0,
  "metadata": {
    "colab": {
      "name": "final_classifer_bertfinetuned_english.ipynb",
      "provenance": [],
      "collapsed_sections": []
    },
    "kernelspec": {
      "name": "python3",
      "display_name": "Python 3"
    },
    "language_info": {
      "name": "python"
    },
    "widgets": {
      "application/vnd.jupyter.widget-state+json": {
        "573eecf99aef46dcaa4a55e49ca8ae82": {
          "model_module": "@jupyter-widgets/controls",
          "model_name": "HBoxModel",
          "model_module_version": "1.5.0",
          "state": {
            "_view_name": "HBoxView",
            "_dom_classes": [],
            "_model_name": "HBoxModel",
            "_view_module": "@jupyter-widgets/controls",
            "_model_module_version": "1.5.0",
            "_view_count": null,
            "_view_module_version": "1.5.0",
            "box_style": "",
            "layout": "IPY_MODEL_078cb63e441a4709965382de6bd4a404",
            "_model_module": "@jupyter-widgets/controls",
            "children": [
              "IPY_MODEL_c1a11de588cb481a870743ef191c90ad",
              "IPY_MODEL_2e434ad4b68240e2ac87736a7c6aa42b",
              "IPY_MODEL_2a57598c52ef4767b104834191006de2"
            ]
          }
        },
        "078cb63e441a4709965382de6bd4a404": {
          "model_module": "@jupyter-widgets/base",
          "model_name": "LayoutModel",
          "model_module_version": "1.2.0",
          "state": {
            "_view_name": "LayoutView",
            "grid_template_rows": null,
            "right": null,
            "justify_content": null,
            "_view_module": "@jupyter-widgets/base",
            "overflow": null,
            "_model_module_version": "1.2.0",
            "_view_count": null,
            "flex_flow": null,
            "width": null,
            "min_width": null,
            "border": null,
            "align_items": null,
            "bottom": null,
            "_model_module": "@jupyter-widgets/base",
            "top": null,
            "grid_column": null,
            "overflow_y": null,
            "overflow_x": null,
            "grid_auto_flow": null,
            "grid_area": null,
            "grid_template_columns": null,
            "flex": null,
            "_model_name": "LayoutModel",
            "justify_items": null,
            "grid_row": null,
            "max_height": null,
            "align_content": null,
            "visibility": null,
            "align_self": null,
            "height": null,
            "min_height": null,
            "padding": null,
            "grid_auto_rows": null,
            "grid_gap": null,
            "max_width": null,
            "order": null,
            "_view_module_version": "1.2.0",
            "grid_template_areas": null,
            "object_position": null,
            "object_fit": null,
            "grid_auto_columns": null,
            "margin": null,
            "display": null,
            "left": null
          }
        },
        "c1a11de588cb481a870743ef191c90ad": {
          "model_module": "@jupyter-widgets/controls",
          "model_name": "HTMLModel",
          "model_module_version": "1.5.0",
          "state": {
            "_view_name": "HTMLView",
            "style": "IPY_MODEL_3fae7097d691436598b37dcb90d69a96",
            "_dom_classes": [],
            "description": "",
            "_model_name": "HTMLModel",
            "placeholder": "​",
            "_view_module": "@jupyter-widgets/controls",
            "_model_module_version": "1.5.0",
            "value": "Downloading: 100%",
            "_view_count": null,
            "_view_module_version": "1.5.0",
            "description_tooltip": null,
            "_model_module": "@jupyter-widgets/controls",
            "layout": "IPY_MODEL_b79e9655ee0748899fd83ca047020dd1"
          }
        },
        "2e434ad4b68240e2ac87736a7c6aa42b": {
          "model_module": "@jupyter-widgets/controls",
          "model_name": "FloatProgressModel",
          "model_module_version": "1.5.0",
          "state": {
            "_view_name": "ProgressView",
            "style": "IPY_MODEL_055c0498b8ac4a3c96eeeec760669ab6",
            "_dom_classes": [],
            "description": "",
            "_model_name": "FloatProgressModel",
            "bar_style": "success",
            "max": 440473133,
            "_view_module": "@jupyter-widgets/controls",
            "_model_module_version": "1.5.0",
            "value": 440473133,
            "_view_count": null,
            "_view_module_version": "1.5.0",
            "orientation": "horizontal",
            "min": 0,
            "description_tooltip": null,
            "_model_module": "@jupyter-widgets/controls",
            "layout": "IPY_MODEL_99b665a1a8b74ae2ba417c637d4781fd"
          }
        },
        "2a57598c52ef4767b104834191006de2": {
          "model_module": "@jupyter-widgets/controls",
          "model_name": "HTMLModel",
          "model_module_version": "1.5.0",
          "state": {
            "_view_name": "HTMLView",
            "style": "IPY_MODEL_ef08a8f2db2b4ebab3cccc44ac82efe4",
            "_dom_classes": [],
            "description": "",
            "_model_name": "HTMLModel",
            "placeholder": "​",
            "_view_module": "@jupyter-widgets/controls",
            "_model_module_version": "1.5.0",
            "value": " 440M/440M [00:13&lt;00:00, 35.6MB/s]",
            "_view_count": null,
            "_view_module_version": "1.5.0",
            "description_tooltip": null,
            "_model_module": "@jupyter-widgets/controls",
            "layout": "IPY_MODEL_4608ac102a314b63b4aee277f26b53ea"
          }
        },
        "3fae7097d691436598b37dcb90d69a96": {
          "model_module": "@jupyter-widgets/controls",
          "model_name": "DescriptionStyleModel",
          "model_module_version": "1.5.0",
          "state": {
            "_view_name": "StyleView",
            "_model_name": "DescriptionStyleModel",
            "description_width": "",
            "_view_module": "@jupyter-widgets/base",
            "_model_module_version": "1.5.0",
            "_view_count": null,
            "_view_module_version": "1.2.0",
            "_model_module": "@jupyter-widgets/controls"
          }
        },
        "b79e9655ee0748899fd83ca047020dd1": {
          "model_module": "@jupyter-widgets/base",
          "model_name": "LayoutModel",
          "model_module_version": "1.2.0",
          "state": {
            "_view_name": "LayoutView",
            "grid_template_rows": null,
            "right": null,
            "justify_content": null,
            "_view_module": "@jupyter-widgets/base",
            "overflow": null,
            "_model_module_version": "1.2.0",
            "_view_count": null,
            "flex_flow": null,
            "width": null,
            "min_width": null,
            "border": null,
            "align_items": null,
            "bottom": null,
            "_model_module": "@jupyter-widgets/base",
            "top": null,
            "grid_column": null,
            "overflow_y": null,
            "overflow_x": null,
            "grid_auto_flow": null,
            "grid_area": null,
            "grid_template_columns": null,
            "flex": null,
            "_model_name": "LayoutModel",
            "justify_items": null,
            "grid_row": null,
            "max_height": null,
            "align_content": null,
            "visibility": null,
            "align_self": null,
            "height": null,
            "min_height": null,
            "padding": null,
            "grid_auto_rows": null,
            "grid_gap": null,
            "max_width": null,
            "order": null,
            "_view_module_version": "1.2.0",
            "grid_template_areas": null,
            "object_position": null,
            "object_fit": null,
            "grid_auto_columns": null,
            "margin": null,
            "display": null,
            "left": null
          }
        },
        "055c0498b8ac4a3c96eeeec760669ab6": {
          "model_module": "@jupyter-widgets/controls",
          "model_name": "ProgressStyleModel",
          "model_module_version": "1.5.0",
          "state": {
            "_view_name": "StyleView",
            "_model_name": "ProgressStyleModel",
            "description_width": "",
            "_view_module": "@jupyter-widgets/base",
            "_model_module_version": "1.5.0",
            "_view_count": null,
            "_view_module_version": "1.2.0",
            "bar_color": null,
            "_model_module": "@jupyter-widgets/controls"
          }
        },
        "99b665a1a8b74ae2ba417c637d4781fd": {
          "model_module": "@jupyter-widgets/base",
          "model_name": "LayoutModel",
          "model_module_version": "1.2.0",
          "state": {
            "_view_name": "LayoutView",
            "grid_template_rows": null,
            "right": null,
            "justify_content": null,
            "_view_module": "@jupyter-widgets/base",
            "overflow": null,
            "_model_module_version": "1.2.0",
            "_view_count": null,
            "flex_flow": null,
            "width": null,
            "min_width": null,
            "border": null,
            "align_items": null,
            "bottom": null,
            "_model_module": "@jupyter-widgets/base",
            "top": null,
            "grid_column": null,
            "overflow_y": null,
            "overflow_x": null,
            "grid_auto_flow": null,
            "grid_area": null,
            "grid_template_columns": null,
            "flex": null,
            "_model_name": "LayoutModel",
            "justify_items": null,
            "grid_row": null,
            "max_height": null,
            "align_content": null,
            "visibility": null,
            "align_self": null,
            "height": null,
            "min_height": null,
            "padding": null,
            "grid_auto_rows": null,
            "grid_gap": null,
            "max_width": null,
            "order": null,
            "_view_module_version": "1.2.0",
            "grid_template_areas": null,
            "object_position": null,
            "object_fit": null,
            "grid_auto_columns": null,
            "margin": null,
            "display": null,
            "left": null
          }
        },
        "ef08a8f2db2b4ebab3cccc44ac82efe4": {
          "model_module": "@jupyter-widgets/controls",
          "model_name": "DescriptionStyleModel",
          "model_module_version": "1.5.0",
          "state": {
            "_view_name": "StyleView",
            "_model_name": "DescriptionStyleModel",
            "description_width": "",
            "_view_module": "@jupyter-widgets/base",
            "_model_module_version": "1.5.0",
            "_view_count": null,
            "_view_module_version": "1.2.0",
            "_model_module": "@jupyter-widgets/controls"
          }
        },
        "4608ac102a314b63b4aee277f26b53ea": {
          "model_module": "@jupyter-widgets/base",
          "model_name": "LayoutModel",
          "model_module_version": "1.2.0",
          "state": {
            "_view_name": "LayoutView",
            "grid_template_rows": null,
            "right": null,
            "justify_content": null,
            "_view_module": "@jupyter-widgets/base",
            "overflow": null,
            "_model_module_version": "1.2.0",
            "_view_count": null,
            "flex_flow": null,
            "width": null,
            "min_width": null,
            "border": null,
            "align_items": null,
            "bottom": null,
            "_model_module": "@jupyter-widgets/base",
            "top": null,
            "grid_column": null,
            "overflow_y": null,
            "overflow_x": null,
            "grid_auto_flow": null,
            "grid_area": null,
            "grid_template_columns": null,
            "flex": null,
            "_model_name": "LayoutModel",
            "justify_items": null,
            "grid_row": null,
            "max_height": null,
            "align_content": null,
            "visibility": null,
            "align_self": null,
            "height": null,
            "min_height": null,
            "padding": null,
            "grid_auto_rows": null,
            "grid_gap": null,
            "max_width": null,
            "order": null,
            "_view_module_version": "1.2.0",
            "grid_template_areas": null,
            "object_position": null,
            "object_fit": null,
            "grid_auto_columns": null,
            "margin": null,
            "display": null,
            "left": null
          }
        }
      }
    },
    "accelerator": "GPU"
  },
  "cells": [
    {
      "cell_type": "code",
      "metadata": {
        "colab": {
          "base_uri": "https://localhost:8080/"
        },
        "id": "1owfSDLERlGq",
        "outputId": "a5f921d4-dfb3-469b-be78-32af1e5bb850"
      },
      "source": [
        "from google.colab import drive\n",
        "drive.mount('/content/drive')"
      ],
      "execution_count": 1,
      "outputs": [
        {
          "output_type": "stream",
          "name": "stdout",
          "text": [
            "Mounted at /content/drive\n"
          ]
        }
      ]
    },
    {
      "cell_type": "code",
      "metadata": {
        "id": "kDDZuGSvSRr4"
      },
      "source": [
        "!pip install transformers "
      ],
      "execution_count": null,
      "outputs": []
    },
    {
      "cell_type": "code",
      "metadata": {
        "id": "b3ocD000Rp1_"
      },
      "source": [
        "#import libraries\n",
        "import pandas as pd\n",
        "import numpy as np\n",
        "\n",
        "from sklearn.model_selection import train_test_split\n",
        "from sklearn.metrics import confusion_matrix, f1_score, classification_report,accuracy_score\n",
        "\n",
        "import matplotlib.pyplot as plt\n",
        "\n",
        "import torch \n",
        "import torch.nn as nn\n",
        "import torch.nn.functional as F\n",
        "from torch.utils.data import Dataset, TensorDataset\n",
        "from torch.utils.data import DataLoader,RandomSampler,SequentialSampler\n",
        "\n",
        "from transformers import BertTokenizer, BertForSequenceClassification\n",
        "from transformers import AdamW\n",
        "from transformers import get_linear_schedule_with_warmup\n",
        "\n",
        "import warnings\n",
        "warnings.filterwarnings(\"ignore\")"
      ],
      "execution_count": 3,
      "outputs": []
    },
    {
      "cell_type": "code",
      "metadata": {
        "id": "JbHgiuQA-yN9",
        "colab": {
          "base_uri": "https://localhost:8080/"
        },
        "outputId": "e98d4d45-8001-42ed-e595-ae71a9a4b625"
      },
      "source": [
        "device = torch.device('cuda') if torch.cuda.is_available() else torch.device('cpu')\n",
        "device"
      ],
      "execution_count": 4,
      "outputs": [
        {
          "output_type": "execute_result",
          "data": {
            "text/plain": [
              "device(type='cuda')"
            ]
          },
          "metadata": {},
          "execution_count": 4
        }
      ]
    },
    {
      "cell_type": "code",
      "metadata": {
        "id": "n9nGKX5RSOri"
      },
      "source": [
        "filePath = '/content/drive/MyDrive/HASOC/data/english/english_2021.csv'\n",
        "df1 = pd.read_csv(filePath,delimiter=',')\n",
        "\n",
        "df1 = df1.drop('task_2',axis=1)\n",
        "df1.columns = ['TwitterID','HASOCID','Text','Type']\n",
        "df1 = df1.drop(['TwitterID','HASOCID'],axis=1)\n",
        "\n",
        "filePath = '/content/drive/MyDrive/HASOC/data/english/english_2020.xlsx'\n",
        "df2 = pd.read_excel(filePath)\n",
        "\n",
        "df2 = df2.drop('task2',axis=1)\n",
        "df2.columns = ['TwitterID','Text','Type','HASOCID']\n",
        "df2 = df2.drop(['TwitterID','HASOCID'],axis=1)\n",
        "\n",
        "\n",
        "filePath = '/content/drive/MyDrive/HASOC/data/english/english_2019_1.tsv'\n",
        "df3 = pd.read_csv(filePath,delimiter='\\t')\n",
        "\n",
        "df3 = df3.drop(['text_id','task_2','task_3'],axis=1)\n",
        "df3.columns = ['Text','Type']\n",
        "\n",
        "filePath = '/content/drive/MyDrive/HASOC/data/english/english_2019_2.tsv'\n",
        "df4 = pd.read_csv(filePath,delimiter='\\t')\n",
        "\n",
        "df4 = df4.drop(['text_id','task_2','task_3'],axis=1)\n",
        "df4.columns = ['Text','Type']"
      ],
      "execution_count": 5,
      "outputs": []
    },
    {
      "cell_type": "code",
      "metadata": {
        "id": "ImzsqxANxY_r"
      },
      "source": [
        "df = pd.concat([df1,df2,df3,df4])"
      ],
      "execution_count": 6,
      "outputs": []
    },
    {
      "cell_type": "code",
      "metadata": {
        "id": "6DN5DDSBt7ZI"
      },
      "source": [
        "df['Type'] = df['Type'].astype('category')\n",
        "df['Type'] = df['Type'].cat.codes\n",
        "df['Type'] = df['Type'].astype(np.int64)"
      ],
      "execution_count": 7,
      "outputs": []
    },
    {
      "cell_type": "code",
      "metadata": {
        "id": "a7wrC3r1TsfG"
      },
      "source": [
        "X = list(df['Text'].values)\n",
        "y = list(df['Type'].values)"
      ],
      "execution_count": 8,
      "outputs": []
    },
    {
      "cell_type": "code",
      "metadata": {
        "id": "3LUQDhwGWryu",
        "colab": {
          "base_uri": "https://localhost:8080/"
        },
        "outputId": "33d68e7b-6687-405d-9be3-16523db8de67"
      },
      "source": [
        "# Train ~ 80%\n",
        "# Validation ~ 10%\n",
        "# Test = 10%\n",
        "\n",
        "X_tmp, X_test, y_tmp, y_test = train_test_split(X, y, test_size = 0.10, random_state=42,stratify=y)\n",
        "X_train, X_valid, y_train, y_valid = train_test_split(X_tmp, y_tmp, test_size = 0.111, random_state=42,stratify=y_tmp)\n",
        "\n",
        "print(len(X_train))\n",
        "print(len(X_valid))\n",
        "print(len(X_test))"
      ],
      "execution_count": 9,
      "outputs": [
        {
          "output_type": "stream",
          "name": "stdout",
          "text": [
            "11645\n",
            "1455\n",
            "1456\n"
          ]
        }
      ]
    },
    {
      "cell_type": "code",
      "metadata": {
        "id": "23phjyhaWhbL"
      },
      "source": [
        "model_name = 'bert-base-uncased'"
      ],
      "execution_count": 10,
      "outputs": []
    },
    {
      "cell_type": "code",
      "metadata": {
        "id": "X2lJWFI8Y78O"
      },
      "source": [
        "def generate_dataset(X,y, tokenizer):\n",
        "\n",
        "  #Generate encodings\n",
        "  encodings = tokenizer.batch_encode_plus(X,        \n",
        "                                          truncation = True,\n",
        "                                          padding=True,\n",
        "                                          max_length=128,\n",
        "                                          return_tensors='pt',\n",
        "                                          add_special_tokens = True)\n",
        "\n",
        "  #convert to tensor dataset\n",
        "  input_ids = encodings['input_ids']\n",
        "  attention_mask = encodings['attention_mask']\n",
        "\n",
        "  input_ids = torch.tensor(input_ids)\n",
        "  attention_mask = torch.tensor(attention_mask)\n",
        "  y = torch.tensor(y)\n",
        "\n",
        "  dataset = TensorDataset(input_ids,attention_mask,y)\n",
        "\n",
        "  return dataset"
      ],
      "execution_count": 11,
      "outputs": []
    },
    {
      "cell_type": "code",
      "metadata": {
        "id": "pF4hQ4I6WTEo"
      },
      "source": [
        "tokenizer = BertTokenizer.from_pretrained(model_name)"
      ],
      "execution_count": null,
      "outputs": []
    },
    {
      "cell_type": "code",
      "metadata": {
        "id": "7V1LOHmSkIV8"
      },
      "source": [
        "train_dataset = generate_dataset(X_train,y_train,tokenizer)\n",
        "valid_dataset = generate_dataset(X_valid,y_valid,tokenizer)"
      ],
      "execution_count": 13,
      "outputs": []
    },
    {
      "cell_type": "code",
      "metadata": {
        "id": "EyKsnoGjV_YI"
      },
      "source": [
        "def get_data_loader(dataset,sampler):\n",
        "  return DataLoader(dataset=dataset,sampler=sampler(dataset),batch_size=32)"
      ],
      "execution_count": 14,
      "outputs": []
    },
    {
      "cell_type": "code",
      "metadata": {
        "id": "gxI-Clmpb63A"
      },
      "source": [
        "# Try out weighted sampler?\n",
        "train_loader = get_data_loader(train_dataset,RandomSampler)\n",
        "validation_loader = get_data_loader(valid_dataset,SequentialSampler)"
      ],
      "execution_count": 15,
      "outputs": []
    },
    {
      "cell_type": "code",
      "metadata": {
        "id": "QW37pFuAcvCH",
        "colab": {
          "base_uri": "https://localhost:8080/",
          "height": 171,
          "referenced_widgets": [
            "573eecf99aef46dcaa4a55e49ca8ae82",
            "078cb63e441a4709965382de6bd4a404",
            "c1a11de588cb481a870743ef191c90ad",
            "2e434ad4b68240e2ac87736a7c6aa42b",
            "2a57598c52ef4767b104834191006de2",
            "3fae7097d691436598b37dcb90d69a96",
            "b79e9655ee0748899fd83ca047020dd1",
            "055c0498b8ac4a3c96eeeec760669ab6",
            "99b665a1a8b74ae2ba417c637d4781fd",
            "ef08a8f2db2b4ebab3cccc44ac82efe4",
            "4608ac102a314b63b4aee277f26b53ea"
          ]
        },
        "outputId": "76ad3019-4687-4afe-dbc5-3dce8cdea4b4"
      },
      "source": [
        "model = BertForSequenceClassification.from_pretrained(model_name, num_labels=2)\n",
        "model.cuda()\n",
        "print(\"Imported model!\")"
      ],
      "execution_count": 16,
      "outputs": [
        {
          "output_type": "display_data",
          "data": {
            "application/vnd.jupyter.widget-view+json": {
              "model_id": "573eecf99aef46dcaa4a55e49ca8ae82",
              "version_minor": 0,
              "version_major": 2
            },
            "text/plain": [
              "Downloading:   0%|          | 0.00/440M [00:00<?, ?B/s]"
            ]
          },
          "metadata": {}
        },
        {
          "output_type": "stream",
          "name": "stderr",
          "text": [
            "Some weights of the model checkpoint at bert-base-uncased were not used when initializing BertForSequenceClassification: ['cls.predictions.transform.LayerNorm.weight', 'cls.seq_relationship.bias', 'cls.predictions.transform.LayerNorm.bias', 'cls.predictions.transform.dense.bias', 'cls.seq_relationship.weight', 'cls.predictions.decoder.weight', 'cls.predictions.bias', 'cls.predictions.transform.dense.weight']\n",
            "- This IS expected if you are initializing BertForSequenceClassification from the checkpoint of a model trained on another task or with another architecture (e.g. initializing a BertForSequenceClassification model from a BertForPreTraining model).\n",
            "- This IS NOT expected if you are initializing BertForSequenceClassification from the checkpoint of a model that you expect to be exactly identical (initializing a BertForSequenceClassification model from a BertForSequenceClassification model).\n",
            "Some weights of BertForSequenceClassification were not initialized from the model checkpoint at bert-base-uncased and are newly initialized: ['classifier.bias', 'classifier.weight']\n",
            "You should probably TRAIN this model on a down-stream task to be able to use it for predictions and inference.\n"
          ]
        },
        {
          "output_type": "stream",
          "name": "stdout",
          "text": [
            "Imported model!\n"
          ]
        }
      ]
    },
    {
      "cell_type": "code",
      "metadata": {
        "id": "kUwzgxW_dQmt"
      },
      "source": [
        "optimizer = AdamW(model.parameters(),lr=2e-5,eps=1e-8)\n",
        "\n",
        "num_epochs = 8\n",
        "total_steps = len(train_loader) * num_epochs\n",
        "\n",
        "scheduler = get_linear_schedule_with_warmup(optimizer, num_warmup_steps = 0, num_training_steps = total_steps)"
      ],
      "execution_count": 17,
      "outputs": []
    },
    {
      "cell_type": "code",
      "metadata": {
        "id": "bfhhcDhsw9tm"
      },
      "source": [
        "def compute_accuracy(preds,labels):\n",
        "  preds = preds.detach().cpu().numpy()\n",
        "  labels = labels.detach().cpu().numpy()\n",
        "  preds = np.argmax(preds,axis=1).flatten()\n",
        "  labels = labels.flatten()\n",
        "  return np.sum(preds == labels)/len(labels)"
      ],
      "execution_count": 18,
      "outputs": []
    },
    {
      "cell_type": "code",
      "metadata": {
        "id": "2ri2SywuCyDp"
      },
      "source": [
        "import random\n",
        "seed_val = 42\n",
        "\n",
        "random.seed(seed_val)\n",
        "np.random.seed(seed_val)\n",
        "torch.manual_seed(seed_val)\n",
        "torch.cuda.manual_seed_all(seed_val)"
      ],
      "execution_count": 19,
      "outputs": []
    },
    {
      "cell_type": "code",
      "metadata": {
        "id": "rtL_0GOQe0WJ"
      },
      "source": [
        "def train():\n",
        "  total_loss = 0.0\n",
        "  total_acc = 0.0\n",
        "\n",
        "  model.train()\n",
        "  \n",
        "  num_steps = 0\n",
        "\n",
        "  for step,batch in enumerate(train_loader):\n",
        "    \n",
        "    if step % 50 == 0 and not step == 0:\n",
        "      print('  Batch {:>5,}  of  {:>5,}.'.format(step, len(train_loader)))\n",
        "\n",
        "    input_ids = batch[0].to(device)\n",
        "    attention_mask = batch[1].to(device)\n",
        "    labels = batch[2].to(device)\n",
        "\n",
        "    model.zero_grad()\n",
        "\n",
        "    outputs = model(input_ids,attention_mask = attention_mask,labels = labels.long())\n",
        "    \n",
        "    loss = outputs.loss\n",
        "    logits = outputs.logits\n",
        "\n",
        "    total_loss = total_loss + loss.item()\n",
        "    total_acc = total_acc + compute_accuracy(logits,labels)\n",
        "\n",
        "    loss.backward()\n",
        "\n",
        "    torch.nn.utils.clip_grad_norm_(model.parameters(), 1.0)\n",
        "\n",
        "    optimizer.step()\n",
        "    scheduler.step()\n",
        "\n",
        "  avg_loss = total_loss/len(train_loader)\n",
        "  avg_acc = total_acc/len(train_loader)\n",
        "\n",
        "  return avg_loss,avg_acc"
      ],
      "execution_count": 20,
      "outputs": []
    },
    {
      "cell_type": "code",
      "metadata": {
        "id": "ZEH-LeFYG3a2"
      },
      "source": [
        "def evaluate():\n",
        "  total_loss = 0.0\n",
        "  total_acc = 0.0\n",
        "\n",
        "  model.train()\n",
        "  \n",
        "  true_labels = []\n",
        "  predictions = []\n",
        "\n",
        "  for step,batch in enumerate(validation_loader):\n",
        "    \n",
        "    if step % 50 == 0 and not step == 0:\n",
        "      print('  Batch {:>5,}  of  {:>5,}.'.format(step, len(validation_loader)))\n",
        "\n",
        "    input_ids = batch[0].to(device)\n",
        "    attention_mask = batch[1].to(device)\n",
        "    labels = batch[2].to(device)\n",
        "\n",
        "    with torch.no_grad():\n",
        "      outputs = model(input_ids,attention_mask = attention_mask,labels = labels.long())\n",
        "    \n",
        "    loss = outputs.loss\n",
        "    logits = outputs.logits\n",
        "\n",
        "    total_loss = total_loss + loss.item()\n",
        "    total_acc = total_acc + compute_accuracy(logits,labels)\n",
        "\n",
        "    logits = logits.detach().cpu().numpy()\n",
        "    logits = np.argmax(logits,axis=1).flatten()\n",
        "    labels = labels.detach().cpu().numpy().flatten()\n",
        "\n",
        "    true_labels.extend(labels)\n",
        "    predictions.extend(logits)\n",
        "\n",
        "  avg_loss = total_loss/len(validation_loader)\n",
        "  avg_acc = total_acc/len(validation_loader)\n",
        "  macro_f1_score =  classification_report(true_labels, predictions,output_dict=True)['macro avg']['f1-score']\n",
        "\n",
        "  return avg_loss,avg_acc,macro_f1_score"
      ],
      "execution_count": 21,
      "outputs": []
    },
    {
      "cell_type": "code",
      "metadata": {
        "id": "KVeT7AYvx4-h",
        "colab": {
          "base_uri": "https://localhost:8080/"
        },
        "outputId": "8f96478f-f068-424f-e8e6-4aa692bdaffc"
      },
      "source": [
        "train_losses = []\n",
        "train_accs = []\n",
        "valid_losses = []\n",
        "valid_accs = []\n",
        "\n",
        "best_f1 = 0.0\n",
        "\n",
        "for epoch in range(num_epochs):\n",
        "  print('\\n Epoch {:} / {:}'.format(epoch + 1, num_epochs))\n",
        "  \n",
        "  train_loss, train_acc = train()\n",
        "  valid_loss, valid_acc,f1_score = evaluate()\n",
        "\n",
        "  train_losses.append(train_loss)\n",
        "  train_accs.append(train_acc)\n",
        "  valid_losses.append(valid_loss)\n",
        "  valid_accs.append(valid_acc)\n",
        "\n",
        "  if f1_score > best_f1:\n",
        "      best_f1 = f1_score\n",
        "      torch.save(model,'/content/drive/MyDrive/HASOC/data/english/final_english_model_bert_8Sept.pt')\n",
        "\n",
        "\n",
        "  print(f'\\nTraining Accuracy: {train_acc:.3f} | Training Loss: {train_loss:.3f} | Validation Accuracy: {valid_acc:.3f} | Validation Loss: {valid_loss:.3f} | F1 Score: {f1_score:.3f} ')"
      ],
      "execution_count": 22,
      "outputs": [
        {
          "output_type": "stream",
          "name": "stdout",
          "text": [
            "\n",
            " Epoch 1 / 8\n",
            "  Batch    50  of    364.\n",
            "  Batch   100  of    364.\n",
            "  Batch   150  of    364.\n",
            "  Batch   200  of    364.\n",
            "  Batch   250  of    364.\n",
            "  Batch   300  of    364.\n",
            "  Batch   350  of    364.\n",
            "\n",
            "Training Accuracy: 0.751 | Training Loss: 0.503 | Validation Accuracy: 0.793 | Validation Loss: 0.424 | F1 Score: 0.792 \n",
            "\n",
            " Epoch 2 / 8\n",
            "  Batch    50  of    364.\n",
            "  Batch   100  of    364.\n",
            "  Batch   150  of    364.\n",
            "  Batch   200  of    364.\n",
            "  Batch   250  of    364.\n",
            "  Batch   300  of    364.\n",
            "  Batch   350  of    364.\n",
            "\n",
            "Training Accuracy: 0.826 | Training Loss: 0.392 | Validation Accuracy: 0.793 | Validation Loss: 0.441 | F1 Score: 0.792 \n",
            "\n",
            " Epoch 3 / 8\n",
            "  Batch    50  of    364.\n",
            "  Batch   100  of    364.\n",
            "  Batch   150  of    364.\n",
            "  Batch   200  of    364.\n",
            "  Batch   250  of    364.\n",
            "  Batch   300  of    364.\n",
            "  Batch   350  of    364.\n",
            "\n",
            "Training Accuracy: 0.879 | Training Loss: 0.287 | Validation Accuracy: 0.802 | Validation Loss: 0.461 | F1 Score: 0.801 \n",
            "\n",
            " Epoch 4 / 8\n",
            "  Batch    50  of    364.\n",
            "  Batch   100  of    364.\n",
            "  Batch   150  of    364.\n",
            "  Batch   200  of    364.\n",
            "  Batch   250  of    364.\n",
            "  Batch   300  of    364.\n",
            "  Batch   350  of    364.\n",
            "\n",
            "Training Accuracy: 0.929 | Training Loss: 0.186 | Validation Accuracy: 0.793 | Validation Loss: 0.576 | F1 Score: 0.791 \n",
            "\n",
            " Epoch 5 / 8\n",
            "  Batch    50  of    364.\n",
            "  Batch   100  of    364.\n",
            "  Batch   150  of    364.\n",
            "  Batch   200  of    364.\n",
            "  Batch   250  of    364.\n",
            "  Batch   300  of    364.\n",
            "  Batch   350  of    364.\n",
            "\n",
            "Training Accuracy: 0.955 | Training Loss: 0.122 | Validation Accuracy: 0.797 | Validation Loss: 0.754 | F1 Score: 0.794 \n",
            "\n",
            " Epoch 6 / 8\n",
            "  Batch    50  of    364.\n",
            "  Batch   100  of    364.\n",
            "  Batch   150  of    364.\n",
            "  Batch   200  of    364.\n",
            "  Batch   250  of    364.\n",
            "  Batch   300  of    364.\n",
            "  Batch   350  of    364.\n",
            "\n",
            "Training Accuracy: 0.974 | Training Loss: 0.081 | Validation Accuracy: 0.784 | Validation Loss: 0.911 | F1 Score: 0.781 \n",
            "\n",
            " Epoch 7 / 8\n",
            "  Batch    50  of    364.\n",
            "  Batch   100  of    364.\n",
            "  Batch   150  of    364.\n",
            "  Batch   200  of    364.\n",
            "  Batch   250  of    364.\n",
            "  Batch   300  of    364.\n",
            "  Batch   350  of    364.\n",
            "\n",
            "Training Accuracy: 0.981 | Training Loss: 0.061 | Validation Accuracy: 0.790 | Validation Loss: 1.016 | F1 Score: 0.788 \n",
            "\n",
            " Epoch 8 / 8\n",
            "  Batch    50  of    364.\n",
            "  Batch   100  of    364.\n",
            "  Batch   150  of    364.\n",
            "  Batch   200  of    364.\n",
            "  Batch   250  of    364.\n",
            "  Batch   300  of    364.\n",
            "  Batch   350  of    364.\n",
            "\n",
            "Training Accuracy: 0.987 | Training Loss: 0.041 | Validation Accuracy: 0.786 | Validation Loss: 1.098 | F1 Score: 0.785 \n"
          ]
        }
      ]
    },
    {
      "cell_type": "code",
      "metadata": {
        "colab": {
          "base_uri": "https://localhost:8080/",
          "height": 312
        },
        "id": "YOmfRQLrnDdr",
        "outputId": "86454fd0-8618-4a64-d486-50a8e23b70f0"
      },
      "source": [
        "plt.plot(train_accs)\n",
        "plt.plot(valid_accs)\n",
        "plt.title('Model accuracy')\n",
        "plt.ylabel('Accuracy')\n",
        "plt.xlabel('Epoch')\n",
        "plt.legend(['train', 'val'], loc='upper left')"
      ],
      "execution_count": 23,
      "outputs": [
        {
          "output_type": "execute_result",
          "data": {
            "text/plain": [
              "<matplotlib.legend.Legend at 0x7f99c67fd750>"
            ]
          },
          "metadata": {},
          "execution_count": 23
        },
        {
          "output_type": "display_data",
          "data": {
            "image/png": "[encoded data removed]",
            "text/plain": [
              "<Figure size 432x288 with 1 Axes>"
            ]
          },
          "metadata": {
            "needs_background": "light"
          }
        }
      ]
    },
    {
      "cell_type": "code",
      "metadata": {
        "colab": {
          "base_uri": "https://localhost:8080/",
          "height": 312
        },
        "id": "joZ3y-3MnDrm",
        "outputId": "1df41ea7-166f-4551-ce77-18bac162483b"
      },
      "source": [
        "plt.plot(train_losses)\n",
        "plt.plot(valid_losses)\n",
        "plt.title('Model loss')\n",
        "plt.ylabel('Loss')\n",
        "plt.xlabel('Epoch')\n",
        "plt.legend(['train', 'val'], loc='upper left')"
      ],
      "execution_count": 24,
      "outputs": [
        {
          "output_type": "execute_result",
          "data": {
            "text/plain": [
              "<matplotlib.legend.Legend at 0x7f99c5273610>"
            ]
          },
          "metadata": {},
          "execution_count": 24
        },
        {
          "output_type": "display_data",
          "data": {
            "image/png": "[encoded data removed]",
            "text/plain": [
              "<Figure size 432x288 with 1 Axes>"
            ]
          },
          "metadata": {
            "needs_background": "light"
          }
        }
      ]
    },
    {
      "cell_type": "code",
      "metadata": {
        "colab": {
          "base_uri": "https://localhost:8080/"
        },
        "id": "MOziyngp095M",
        "outputId": "7b327793-a6cb-4ca3-95d1-d007305f70af"
      },
      "source": [
        "del model\n",
        "del train_loader\n",
        "del validation_loader\n",
        "\n",
        "import gc\n",
        "gc.collect()"
      ],
      "execution_count": 25,
      "outputs": [
        {
          "output_type": "execute_result",
          "data": {
            "text/plain": [
              "102"
            ]
          },
          "metadata": {},
          "execution_count": 25
        }
      ]
    },
    {
      "cell_type": "code",
      "metadata": {
        "id": "Q3fXqEt_0SxY"
      },
      "source": [
        "model = torch.load('/content/drive/MyDrive/HASOC/data/english/final_english_model_bert_8Sept.pt')\n",
        "model = model.to(device)"
      ],
      "execution_count": 26,
      "outputs": []
    },
    {
      "cell_type": "code",
      "metadata": {
        "id": "IlF5o_3BAJa6"
      },
      "source": [
        "test_dataset = generate_dataset(X_test,y_test,tokenizer)\n",
        "test_loader = get_data_loader(test_dataset,SequentialSampler)"
      ],
      "execution_count": 27,
      "outputs": []
    },
    {
      "cell_type": "code",
      "metadata": {
        "id": "577VnS1_A8-w"
      },
      "source": [
        "def test_evaluate():\n",
        "  total_loss = 0.0\n",
        "  total_acc = 0.0\n",
        "\n",
        "  model.train()\n",
        "  \n",
        "  true_labels = []\n",
        "  predictions = []\n",
        "\n",
        "  for step,batch in enumerate(test_loader):\n",
        "    \n",
        "    if step % 50 == 0 and not step == 0:\n",
        "      print('  Batch {:>5,}  of  {:>5,}.'.format(step, len(test_loader)))\n",
        "\n",
        "    input_ids = batch[0].to(device)\n",
        "    attention_mask = batch[1].to(device)\n",
        "    labels = batch[2].to(device)\n",
        "\n",
        "    with torch.no_grad():\n",
        "      outputs = model(input_ids,attention_mask = attention_mask,labels = labels.long())\n",
        "    \n",
        "    loss = outputs.loss\n",
        "    logits = outputs.logits\n",
        "\n",
        "    total_loss = total_loss + loss.item()\n",
        "    total_acc = total_acc + compute_accuracy(logits,labels)\n",
        "\n",
        "    logits = logits.detach().cpu().numpy()\n",
        "    logits = np.argmax(logits,axis=1).flatten()\n",
        "    labels = labels.detach().cpu().numpy().flatten()\n",
        "\n",
        "    true_labels.extend(labels)\n",
        "    predictions.extend(logits)\n",
        "\n",
        "  avg_loss = total_loss/len(test_loader)\n",
        "  avg_acc = total_acc/len(test_loader)\n",
        "  macro_f1_score =  classification_report(true_labels, predictions,output_dict=True)['macro avg']['f1-score']\n",
        "\n",
        "  return avg_loss,avg_acc,macro_f1_score"
      ],
      "execution_count": 30,
      "outputs": []
    },
    {
      "cell_type": "code",
      "metadata": {
        "colab": {
          "base_uri": "https://localhost:8080/"
        },
        "id": "fPt8yVwVBWlW",
        "outputId": "fd3e9bde-b42f-49bd-db72-5b4113ff55e6"
      },
      "source": [
        "test_loss,test_acc,f1_score = test_evaluate()\n",
        "print(f'\\nTest Accuracy: {test_acc:.3f} | Test Loss: {test_loss:.3f} | F1 Score: {f1_score:.3f} ')"
      ],
      "execution_count": 31,
      "outputs": [
        {
          "output_type": "stream",
          "name": "stdout",
          "text": [
            "\n",
            "Test Accuracy: 0.775 | Test Loss: 0.560 | F1 Score: 0.774 \n"
          ]
        }
      ]
    },
    {
      "cell_type": "code",
      "metadata": {
        "id": "K5Bc3IKmZAx6"
      },
      "source": [
        "filePath = '/content/drive/MyDrive/HASOC/data/english/en_Hasoc2021_test_task1.csv'\n",
        "df_test = pd.read_csv(filePath,delimiter=',')"
      ],
      "execution_count": null,
      "outputs": []
    },
    {
      "cell_type": "code",
      "metadata": {
        "id": "B9L_0LosLwwd"
      },
      "source": [
        "results = {}\n",
        "\n",
        "for ind in df_test.index:\n",
        "  txt = df_test['text'][ind]\n",
        "  id = df_test['_id'][ind]\n",
        "\n",
        "  encodings = tokenizer.encode_plus(txt,truncation = True,padding=True,max_length=128,return_tensors='pt')\n",
        "\n",
        "  input_ids = encodings['input_ids']\n",
        "  attention_mask = encodings['attention_mask']\n",
        "  input_ids = torch.tensor(input_ids)\n",
        "  attention_mask = torch.tensor(attention_mask)\n",
        "\n",
        "  with torch.no_grad():\n",
        "    input_ids = input_ids.to(device)\n",
        "    attention_mask = attention_mask.to(device)\n",
        "    \n",
        "    outputs = model(input_ids, attention_mask)\n",
        "    outputs = outputs.logits.detach().cpu().numpy()\n",
        "    outputs = np.argmax(outputs,axis=1)\n",
        "\n",
        "    if(outputs[0]==0):\n",
        "      results[id] = \"HOF\"\n",
        "    else:\n",
        "      results[id] = \"NOT\""
      ],
      "execution_count": null,
      "outputs": []
    },
    {
      "cell_type": "code",
      "metadata": {
        "id": "tzopbZ72Ao6Z"
      },
      "source": [
        "df_results = pd.DataFrame(list(results.items()))\n",
        "df_results.columns = [\"id\",\"label\"]"
      ],
      "execution_count": null,
      "outputs": []
    },
    {
      "cell_type": "code",
      "metadata": {
        "id": "RQLuask0Aqs0"
      },
      "source": [
        "df_results.to_csv(\"/content/drive/MyDrive/HASOC/data/english/classifer_bertfinetuned_english_bert_30Aug.csv\",index=False)"
      ],
      "execution_count": null,
      "outputs": []
    },
    {
      "cell_type": "code",
      "metadata": {
        "id": "_tbO1_zCAuOX"
      },
      "source": [
        ""
      ],
      "execution_count": null,
      "outputs": []
    }
  ]
}